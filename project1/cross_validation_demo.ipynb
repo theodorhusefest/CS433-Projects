{
 "cells": [
  {
   "cell_type": "markdown",
   "metadata": {},
   "source": [
    "## Cross Validation"
   ]
  },
  {
   "cell_type": "code",
   "execution_count": 26,
   "metadata": {},
   "outputs": [
    {
     "name": "stdout",
     "output_type": "stream",
     "text": [
      "The autoreload extension is already loaded. To reload it, use:\n",
      "  %reload_ext autoreload\n"
     ]
    }
   ],
   "source": [
    "# Useful starting lines\n",
    "%matplotlib inline\n",
    "import numpy as np\n",
    "import matplotlib.pyplot as plt\n",
    "import pandas as pd\n",
    "%load_ext autoreload\n",
    "%autoreload 2"
   ]
  },
  {
   "cell_type": "code",
   "execution_count": 49,
   "metadata": {
    "collapsed": false,
    "jupyter": {
     "outputs_hidden": false
    }
   },
   "outputs": [
    {
     "data": {
      "text/plain": [
       "(10000, 30)"
      ]
     },
     "execution_count": 49,
     "metadata": {},
     "output_type": "execute_result"
    }
   ],
   "source": [
    "from scripts.proj1_helpers import *\n",
    "DATA_TRAIN_PATH = './data/train.csv' # TODO: download train data and supply path here \n",
    "y, tX2, ids = load_csv_data(DATA_TRAIN_PATH, sub_sample=True)\n",
    "\n",
    "tX2.shape"
   ]
  },
  {
   "cell_type": "code",
   "execution_count": 59,
   "metadata": {},
   "outputs": [],
   "source": [
    "from scripts.clean_data import clean_data\n",
    "tX = clean_data(tX2)"
   ]
  },
  {
   "cell_type": "code",
   "execution_count": 60,
   "metadata": {},
   "outputs": [],
   "source": [
    "from scripts.cross_validation import *\n",
    "\n",
    "losses = cross_validation_least_squares(y, tX)"
   ]
  },
  {
   "cell_type": "code",
   "execution_count": 61,
   "metadata": {},
   "outputs": [],
   "source": [
    "def plot_losses(losses):\n",
    "    \n",
    "    fig = plt.figure(figsize=(8,6))\n",
    "    plt.plot(losses.degree, losses.losses_tr)\n",
    "    plt.plot(losses.degree, losses.losses_te)\n",
    "    plt.grid()\n",
    "    plt.ylim([0,3])\n",
    "    plt.show()\n",
    "\n"
   ]
  },
  {
   "cell_type": "code",
   "execution_count": 62,
   "metadata": {},
   "outputs": [
    {
     "name": "stdout",
     "output_type": "stream",
     "text": [
      "    degree  losses_tr  losses_te\n",
      "0        1   0.823194   0.825634\n",
      "1        2   0.787582   0.792834\n",
      "2        3   0.772932   0.781966\n",
      "3        4   0.765785   0.779501\n",
      "4        5   0.883983   0.920771\n",
      "5        6   0.759152   0.792387\n",
      "6        7   0.786107   0.820624\n",
      "7        8   0.797210   0.875725\n",
      "8        9   0.777245   0.851046\n",
      "9       10   1.200129   1.675273\n",
      "10      11   0.753605   0.792724\n",
      "11      12   0.989257   2.196439\n",
      "12      13   0.803379   1.220171\n",
      "13      14   0.761935   1.301038\n"
     ]
    },
    {
     "data": {
      "image/png": "[encoded data removed]",
      "text/plain": [
       "<Figure size 576x432 with 1 Axes>"
      ]
     },
     "metadata": {
      "needs_background": "light"
     },
     "output_type": "display_data"
    }
   ],
   "source": [
    "print(losses)\n",
    "plot_losses(losses)"
   ]
  },
  {
   "cell_type": "code",
   "execution_count": null,
   "metadata": {},
   "outputs": [],
   "source": []
  }
 ],
 "metadata": {
  "kernelspec": {
   "display_name": "Python [conda env:ml] *",
   "language": "python",
   "name": "conda-env-ml-py"
  },
  "language_info": {
   "codemirror_mode": {
    "name": "ipython",
    "version": 3
   },
   "file_extension": ".py",
   "mimetype": "text/x-python",
   "name": "python",
   "nbconvert_exporter": "python",
   "pygments_lexer": "ipython3",
   "version": "3.7.4"
  }
 },
 "nbformat": 4,
 "nbformat_minor": 4
}
