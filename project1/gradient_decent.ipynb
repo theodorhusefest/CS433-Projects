{
 "cells": [
  {
   "cell_type": "code",
   "execution_count": 1,
   "metadata": {},
   "outputs": [],
   "source": [
    "%matplotlib inline\n",
    "import numpy as np\n",
    "import matplotlib.pyplot as plt\n",
    "import pandas as pd\n",
    "%load_ext autoreload\n",
    "%autoreload 2"
   ]
  },
  {
   "cell_type": "code",
   "execution_count": 2,
   "metadata": {},
   "outputs": [],
   "source": [
    "# Read Data\n",
    "y = pd.read_pickle(\"./pickles/y_sub.pkl\").to_numpy()\n",
    "tx = pd.read_pickle(\"./pickles/x_sub.pkl\").to_numpy()\n",
    "\n",
    "y = np.reshape(y, len(y))\n"
   ]
  },
  {
   "cell_type": "code",
   "execution_count": 3,
   "metadata": {},
   "outputs": [],
   "source": [
    "def compute_mse(y, tx, w):\n",
    "    \"\"\"compute the loss by mse.\"\"\"\n",
    "    e = y - tx.dot(w)\n",
    "    mse = e.dot(e) / (2 * len(e))\n",
    "    return mse"
   ]
  },
  {
   "cell_type": "code",
   "execution_count": 4,
   "metadata": {},
   "outputs": [],
   "source": [
    "def compute_gradient(y, tx, w):\n",
    "    \"\"\"\n",
    "\n",
    "    \"\"\"\n",
    "    e = y - tx.dot(w)\n",
    "    \n",
    "    return -(1/len(y))*(tx.T).dot(e)\n",
    "\n",
    "    "
   ]
  },
  {
   "cell_type": "code",
   "execution_count": 5,
   "metadata": {},
   "outputs": [],
   "source": [
    "def gradient_descent(y, tx, initial_w, max_iters, gamma):\n",
    "    \"\"\"Gradient descent algorithm.\"\"\"\n",
    "    # Define parameters to store w and loss\n",
    "    ws = [initial_w]\n",
    "    losses = []\n",
    "    w = initial_w\n",
    "    for n_iter in range(max_iters):\n",
    "        \n",
    "        print('n_inter =', n_iter)\n",
    "        \n",
    "        gradient = compute_gradient(y, tx, w)\n",
    "        loss = compute_mse(y,tx,ws[n_iter])\n",
    "        print()\n",
    "        \n",
    "        w =  w - gamma*gradient\n",
    "        \n",
    "        # store w and loss\n",
    "        ws.append(w)\n",
    "        losses.append(loss)\n",
    "        print(\"Gradient Descent({bi}/{ti}): loss={l}, w0={w0}, w1={w1}\".format(\n",
    "              bi=n_iter, ti=max_iters - 1, l=loss, w0=w[0], w1=w[1]))\n",
    "\n",
    "    return losses, ws"
   ]
  },
  {
   "cell_type": "code",
   "execution_count": 10,
   "metadata": {},
   "outputs": [
    {
     "name": "stdout",
     "output_type": "stream",
     "text": [
      "250000\n",
      "n_inter = 0\n",
      "\n",
      "Gradient Descent(0/4): loss=602962.2703017434, w0=-382277.0022575563, w1=-143964.26838001815\n",
      "n_inter = 1\n",
      "\n",
      "Gradient Descent(1/4): loss=1.1754513290832974e+17, w0=163108908140.95715, w1=59791835367.310646\n",
      "n_inter = 2\n",
      "\n",
      "Gradient Descent(2/4): loss=2.3085624327895506e+28, w0=-7.205152911507424e+16, w1=-2.6386938896605876e+16\n",
      "n_inter = 3\n",
      "\n",
      "Gradient Descent(3/4): loss=4.5341208133921685e+39, w0=3.1922893594283905e+22, w1=1.1690137084302306e+22\n",
      "n_inter = 4\n",
      "\n",
      "Gradient Descent(4/4): loss=8.905219934939441e+50, w0=-1.4147130921242222e+28, w1=-5.180640280233793e+27\n",
      "Gradient Descent: execution time=0.208 seconds\n"
     ]
    }
   ],
   "source": [
    "# from gradient_descent import *\n",
    "from plots import gradient_descent_visualization\n",
    "import datetime\n",
    "# Define the parameters of the algorithm.\n",
    "max_iters = 5\n",
    "gamma = 3\n",
    "\n",
    "# Initialization\n",
    "w_initial = np.array([1 for i in range(tx.shape[1])])\n",
    "print(len(y))\n",
    "\n",
    "\n",
    "# Start gradient descent.\n",
    "start_time = datetime.datetime.now()\n",
    "gradient_losses, gradient_ws = gradient_descent(y, tx, w_initial, max_iters, gamma)\n",
    "end_time = datetime.datetime.now()\n",
    "\n",
    "# Print result\n",
    "exection_time = (end_time - start_time).total_seconds()\n",
    "print(\"Gradient Descent: execution time={t:.3f} seconds\".format(t=exection_time))"
   ]
  },
  {
   "cell_type": "code",
   "execution_count": null,
   "metadata": {},
   "outputs": [],
   "source": []
  }
 ],
 "metadata": {
  "kernelspec": {
   "display_name": "Python [conda env:ml] *",
   "language": "python",
   "name": "conda-env-ml-py"
  },
  "language_info": {
   "codemirror_mode": {
    "name": "ipython",
    "version": 3
   },
   "file_extension": ".py",
   "mimetype": "text/x-python",
   "name": "python",
   "nbconvert_exporter": "python",
   "pygments_lexer": "ipython3",
   "version": "3.7.4"
  }
 },
 "nbformat": 4,
 "nbformat_minor": 4
}
