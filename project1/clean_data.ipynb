{
 "cells": [
  {
   "cell_type": "markdown",
   "metadata": {},
   "source": [
    "# Cleaning of Data\n",
    "We use this file to clean the data. Still work in progress...  \n",
    "After use, save the cleaned versions in tx_cleaned.pkl, so we use the correct ones in the tasks."
   ]
  },
  {
   "cell_type": "code",
   "execution_count": null,
   "metadata": {},
   "outputs": [],
   "source": [
    "%matplotlib inline\n",
    "import numpy as np\n",
    "import matplotlib.pyplot as plt\n",
    "import pandas as pd\n",
    "%load_ext autoreload\n",
    "%autoreload 2"
   ]
  },
  {
   "cell_type": "code",
   "execution_count": null,
   "metadata": {},
   "outputs": [],
   "source": [
    "from proj1_helpers import load_csv_data\n",
    "\n",
    "data_path = 'data/train.csv'\n",
    "y, x, ids = load_csv_data(data_path, sub_sample=False)\n"
   ]
  },
  {
   "cell_type": "markdown",
   "metadata": {},
   "source": [
    "### Validate the data\n",
    "In order to get a good feel of the dataset, we do some inference on the set. In the plot below we see that we have a lot of values that are -999. Those should be handled in the dataset."
   ]
  },
  {
   "cell_type": "code",
   "execution_count": null,
   "metadata": {},
   "outputs": [],
   "source": [
    "def boxplot(x):\n",
    "    num_rows = 1\n",
    "    num_cols = 1\n",
    "    f, a = plt.subplots(num_rows, num_cols, figsize=(15,5))\n",
    "    tx_df = pd.DataFrame(data=x)\n",
    "    tx_df.boxplot()\n",
    "    \n",
    "boxplot(x)"
   ]
  },
  {
   "cell_type": "markdown",
   "metadata": {},
   "source": [
    "- From the boxplot we see that many of the columns are distributed less than zero, even though a lot of the data is far above zero. A quick look at the dataset reveils a lot of values at -999, which has to be the go-to error-value in the dataset. Therefore we set all -999 to np.nan.\n"
   ]
  },
  {
   "cell_type": "code",
   "execution_count": null,
   "metadata": {},
   "outputs": [],
   "source": [
    "def remove_undefined_columns(x):\n",
    "    \"\"\"\n",
    "    If more than 50% of the values in the column is -999, remove it.\n",
    "    \"\"\"\n",
    "    bool_array = (np.count_nonzero(x==-999, axis=0) / x.shape[0]) > 0.5\n",
    "    indicies = np.argwhere(bool_array == True).ravel()\n",
    "    x = np.delete(x, indicies, axis=1)\n",
    "    return x"
   ]
  },
  {
   "cell_type": "code",
   "execution_count": null,
   "metadata": {},
   "outputs": [],
   "source": [
    "def set_undefined_to_mean(x):\n",
    "    \"\"\" \n",
    "    Sets all values equal to -999 to the mean of column.\n",
    "    \"\"\"\n",
    "    x[x == -999] = np.nan\n",
    "    x_mean = np.nanmean(x, axis = 0)\n",
    "    indicies = np.where(np.isnan(x))\n",
    "    x[indicies] = np.take(x_mean, indicies[1])\n",
    "    \n",
    "    return x"
   ]
  },
  {
   "cell_type": "code",
   "execution_count": null,
   "metadata": {},
   "outputs": [],
   "source": [
    "def remove_outliers(x):\n",
    "    \"\"\"\n",
    "    Set all outliers that are more than 2 std from the mean to nan.\n",
    "    \"\"\"\n",
    "    x_std = np.nanstd(x, axis = 0)\n",
    "    x_mean = np.nanmean(x, axis = 0)\n",
    "    \n",
    "    x[x > x_mean + 2*x_std] = np.nan\n",
    "    x[x < x_mean - 2*x_std] = np.nan\n",
    "    \n",
    "    return x\n",
    "    "
   ]
  },
  {
   "cell_type": "code",
   "execution_count": null,
   "metadata": {},
   "outputs": [],
   "source": [
    "x = remove_undefined_columns(x)\n",
    "x = set_undefined_to_mean(x)\n",
    "# x = remove_outliers(x)\n",
    "# Using Pandas to save to pickle\n",
    "pd.DataFrame(data=x).to_pickle('./pickles/x_sub.pkl')\n",
    "pd.DataFrame(data=y).to_pickle('./pickles/y_sub.pkl')\n",
    "\n"
   ]
  },
  {
   "cell_type": "code",
   "execution_count": null,
   "metadata": {},
   "outputs": [],
   "source": [
    "boxplot(x)"
   ]
  },
  {
   "cell_type": "code",
   "execution_count": null,
   "metadata": {},
   "outputs": [],
   "source": []
  }
 ],
 "metadata": {
  "kernelspec": {
   "display_name": "Python [conda env:ml] *",
   "language": "python",
   "name": "conda-env-ml-py"
  },
  "language_info": {
   "codemirror_mode": {
    "name": "ipython",
    "version": 3
   },
   "file_extension": ".py",
   "mimetype": "text/x-python",
   "name": "python",
   "nbconvert_exporter": "python",
   "pygments_lexer": "ipython3",
   "version": "3.7.4"
  }
 },
 "nbformat": 4,
 "nbformat_minor": 4
}
