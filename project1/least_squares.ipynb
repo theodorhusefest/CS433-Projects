{
 "cells": [
  {
   "cell_type": "markdown",
   "metadata": {},
   "source": [
    "# Least Square"
   ]
  },
  {
   "cell_type": "code",
   "execution_count": 2,
   "metadata": {},
   "outputs": [],
   "source": [
    "%matplotlib inline\n",
    "import numpy as np\n",
    "import matplotlib.pyplot as plt\n",
    "import pandas as pd\n",
    "%load_ext autoreload\n",
    "%autoreload 2"
   ]
  },
  {
   "cell_type": "code",
   "execution_count": 48,
   "metadata": {},
   "outputs": [],
   "source": [
    "# Read Data\n",
    "y = pd.read_pickle(\"./pickles/y.pkl\").to_numpy()\n",
    "tx = pd.read_pickle(\"./pickles/x.pkl\").to_numpy()\n",
    "\n",
    "y_te = pd.read_pickle(\"./pickles/y_te_full.pkl\").to_numpy()\n",
    "x_te = pd.read_pickle(\"./pickles/x_te_full.pkl\").to_numpy()\n",
    "ids_te = pd.read_pickle(\"./pickles/ids_te_full.pkl\").to_numpy()\n",
    "y = np.reshape(y, len(y))\n",
    "y_te = np.reshape(y_te, len(y_te))\n"
   ]
  },
  {
   "cell_type": "code",
   "execution_count": 52,
   "metadata": {},
   "outputs": [
    {
     "name": "stdout",
     "output_type": "stream",
     "text": [
      "(250000, 30) (250000, 211)\n"
     ]
    }
   ],
   "source": [
    "from scripts.proj1_helpers import build_poly\n",
    "\n",
    "# Here we set degree to 9, should do cross-validation on this.\n",
    "degree = 7\n",
    "\n",
    "tx_2 = build_poly(tx, degree)\n",
    "print(tx.shape, tx_2.shape)"
   ]
  },
  {
   "cell_type": "code",
   "execution_count": 53,
   "metadata": {},
   "outputs": [],
   "source": [
    "def least_squares(y, tx):\n",
    "    \"\"\"calculate the least squares solution.\"\"\"\n",
    "    \n",
    "    w_star = np.linalg.solve(np.dot(tx.T, tx), np.dot(tx.T, y))\n",
    "    mse = (1/len(y))*np.transpose(y - tx@w_star).dot((y - tx @ w_star))\n",
    "    \n",
    "    return mse, w_star\n",
    "    "
   ]
  },
  {
   "cell_type": "code",
   "execution_count": 54,
   "metadata": {},
   "outputs": [
    {
     "data": {
      "text/plain": [
       "(0.5554962483878976, (211,))"
      ]
     },
     "execution_count": 54,
     "metadata": {},
     "output_type": "execute_result"
    }
   ],
   "source": [
    "loss, w = least_squares(y,tx_2)\n",
    "loss, w.shape"
   ]
  },
  {
   "cell_type": "code",
   "execution_count": null,
   "metadata": {},
   "outputs": [],
   "source": [
    "from proj1_helpers import predict_labels, create_csv_submission\n",
    "\n",
    "y_pred = predict_labels(w,x_te)\n",
    "\n",
    "create_csv_submission(ids_te, y_pred, 'first_sub.csv')"
   ]
  },
  {
   "cell_type": "code",
   "execution_count": null,
   "metadata": {},
   "outputs": [],
   "source": []
  }
 ],
 "metadata": {
  "kernelspec": {
   "display_name": "Python 3",
   "language": "python",
   "name": "python3"
  },
  "language_info": {
   "codemirror_mode": {
    "name": "ipython",
    "version": 3
   },
   "file_extension": ".py",
   "mimetype": "text/x-python",
   "name": "python",
   "nbconvert_exporter": "python",
   "pygments_lexer": "ipython3",
   "version": "3.7.4"
  }
 },
 "nbformat": 4,
 "nbformat_minor": 4
}
