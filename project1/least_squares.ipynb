{
 "cells": [
  {
   "cell_type": "markdown",
   "metadata": {},
   "source": [
    "# Least Square"
   ]
  },
  {
   "cell_type": "code",
   "execution_count": 27,
   "metadata": {},
   "outputs": [
    {
     "name": "stdout",
     "output_type": "stream",
     "text": [
      "The autoreload extension is already loaded. To reload it, use:\n",
      "  %reload_ext autoreload\n"
     ]
    }
   ],
   "source": [
    "%matplotlib inline\n",
    "import numpy as np\n",
    "import matplotlib.pyplot as plt\n",
    "import pandas as pd\n",
    "%load_ext autoreload\n",
    "%autoreload 2"
   ]
  },
  {
   "cell_type": "code",
   "execution_count": 28,
   "metadata": {},
   "outputs": [],
   "source": [
    "# Read Data\n",
    "y = pd.read_pickle(\"./pickles/y_sub.pkl\").to_numpy()\n",
    "tx = pd.read_pickle(\"./pickles/x_sub.pkl\").to_numpy()\n",
    "\n",
    "y_te = pd.read_pickle(\"./pickles/y_te_full.pkl\").to_numpy()\n",
    "x_te = pd.read_pickle(\"./pickles/x_te_full.pkl\").to_numpy()\n",
    "ids_te = pd.read_pickle(\"./pickles/ids_te_full.pkl\").to_numpy()\n",
    "y = np.reshape(y, len(y))\n",
    "y_te = np.reshape(y_te, len(y_te))\n"
   ]
  },
  {
   "cell_type": "code",
   "execution_count": 29,
   "metadata": {},
   "outputs": [],
   "source": [
    "def least_squares(y, tx):\n",
    "    \"\"\"calculate the least squares solution.\"\"\"\n",
    "    \n",
    "    w_star = np.linalg.solve(np.dot(tx.T, tx), np.dot(tx.T, y))\n",
    "    mse = (1/len(y))*np.transpose(y - tx@w_star).dot((y - tx @ w_star))\n",
    "    \n",
    "    return mse, w_star\n",
    "    "
   ]
  },
  {
   "cell_type": "code",
   "execution_count": 32,
   "metadata": {},
   "outputs": [
    {
     "data": {
      "text/plain": [
       "(0.6945516414252557,\n",
       " array([-2.40498187e-04, -8.52495200e-03, -3.47637721e-03, -4.45299607e-04,\n",
       "         1.37315476e-01, -1.99520132e-03, -2.84863042e+01, -2.80625056e-01,\n",
       "         1.32352970e-01,  2.84917834e+01,  1.09717145e-02, -8.93522610e-04,\n",
       "         2.85003396e+01,  1.92392012e-02,  7.62838894e-03,  3.20219851e-03,\n",
       "        -3.98508333e-03, -1.06180449e-03, -8.07110762e-02, -3.09493632e-03,\n",
       "        -2.35751538e-02, -2.76488115e-03,  2.84883087e+01]))"
      ]
     },
     "execution_count": 32,
     "metadata": {},
     "output_type": "execute_result"
    }
   ],
   "source": [
    "loss, w = least_squares(y,tx)\n",
    "loss,w"
   ]
  },
  {
   "cell_type": "code",
   "execution_count": 26,
   "metadata": {},
   "outputs": [],
   "source": [
    "from proj1_helpers import predict_labels, create_csv_submission\n",
    "\n",
    "y_pred = predict_labels(w,x_te)\n",
    "\n",
    "create_csv_submission(ids_te, y_pred, 'first_sub.csv')"
   ]
  },
  {
   "cell_type": "code",
   "execution_count": null,
   "metadata": {},
   "outputs": [],
   "source": []
  }
 ],
 "metadata": {
  "kernelspec": {
   "display_name": "Python [conda env:ml] *",
   "language": "python",
   "name": "conda-env-ml-py"
  },
  "language_info": {
   "codemirror_mode": {
    "name": "ipython",
    "version": 3
   },
   "file_extension": ".py",
   "mimetype": "text/x-python",
   "name": "python",
   "nbconvert_exporter": "python",
   "pygments_lexer": "ipython3",
   "version": "3.7.4"
  }
 },
 "nbformat": 4,
 "nbformat_minor": 4
}
