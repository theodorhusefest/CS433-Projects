{
 "cells": [
  {
   "cell_type": "markdown",
   "metadata": {},
   "source": [
    "# Methods and Models"
   ]
  },
  {
   "cell_type": "code",
   "execution_count": 1,
   "metadata": {},
   "outputs": [],
   "source": [
    "# Useful starting lines\n",
    "%matplotlib inline\n",
    "import numpy as np\n",
    "import matplotlib.pyplot as plt\n",
    "import pandas as pd\n",
    "%load_ext autoreload\n",
    "%autoreload 2"
   ]
  },
  {
   "cell_type": "markdown",
   "metadata": {},
   "source": [
    "## Load the training data into feature matrix, class labels, and event ids:"
   ]
  },
  {
   "cell_type": "code",
   "execution_count": 2,
   "metadata": {},
   "outputs": [],
   "source": [
    "from scripts.implementations import *"
   ]
  },
  {
   "cell_type": "code",
   "execution_count": 3,
   "metadata": {
    "collapsed": false,
    "jupyter": {
     "outputs_hidden": false
    }
   },
   "outputs": [],
   "source": [
    "DATA_TRAIN_PATH = './data/train.csv' # TODO: download train data and supply path here \n",
    "y, tX2, ids = load_csv_data(DATA_TRAIN_PATH, sub_sample=False)"
   ]
  },
  {
   "cell_type": "markdown",
   "metadata": {},
   "source": [
    "**Clean the data**"
   ]
  },
  {
   "cell_type": "code",
   "execution_count": 4,
   "metadata": {},
   "outputs": [],
   "source": [
    "tx = clean_data(tX2)"
   ]
  },
  {
   "cell_type": "markdown",
   "metadata": {},
   "source": [
    "**Least Squares**"
   ]
  },
  {
   "cell_type": "code",
   "execution_count": 5,
   "metadata": {},
   "outputs": [
    {
     "data": {
      "text/plain": [
       "0.3446770721723313"
      ]
     },
     "execution_count": 5,
     "metadata": {},
     "output_type": "execute_result"
    }
   ],
   "source": [
    "w, loss = least_squares(y, tx)\n",
    "loss"
   ]
  },
  {
   "cell_type": "markdown",
   "metadata": {},
   "source": [
    "**Gradient Descent**"
   ]
  },
  {
   "cell_type": "markdown",
   "metadata": {},
   "source": [
    "Cross validation to find best gamma for our model"
   ]
  },
  {
   "cell_type": "code",
   "execution_count": 6,
   "metadata": {},
   "outputs": [
    {
     "name": "stdout",
     "output_type": "stream",
     "text": [
      "Currently at gamma: 0.0001\n",
      "Currently at gamma: 0.00012742749857031334\n",
      "Currently at gamma: 0.0001623776739188721\n",
      "Currently at gamma: 0.00020691380811147902\n",
      "Currently at gamma: 0.00026366508987303583\n",
      "Currently at gamma: 0.0003359818286283781\n",
      "Currently at gamma: 0.00042813323987193956\n",
      "Currently at gamma: 0.000545559478116852\n",
      "Currently at gamma: 0.0006951927961775605\n",
      "Currently at gamma: 0.0008858667904100823\n",
      "Currently at gamma: 0.0011288378916846883\n",
      "Currently at gamma: 0.0014384498882876629\n",
      "Currently at gamma: 0.0018329807108324356\n",
      "Currently at gamma: 0.002335721469090121\n",
      "Currently at gamma: 0.002976351441631319\n",
      "Currently at gamma: 0.00379269019073225\n",
      "Currently at gamma: 0.004832930238571752\n",
      "Currently at gamma: 0.00615848211066026\n",
      "Currently at gamma: 0.007847599703514606\n",
      "Currently at gamma: 0.01\n"
     ]
    }
   ],
   "source": [
    "max_iters = 50\n",
    "degree = 1\n",
    "losses_GD = cross_validation_GD(y, tx, max_iters, degree)\n"
   ]
  },
  {
   "cell_type": "markdown",
   "metadata": {},
   "source": [
    "Plot results of how losses connect to gammas"
   ]
  },
  {
   "cell_type": "code",
   "execution_count": 7,
   "metadata": {},
   "outputs": [
    {
     "data": {
      "image/png": "[encoded data removed]",
      "text/plain": [
       "<Figure size 576x432 with 1 Axes>"
      ]
     },
     "metadata": {
      "needs_background": "light"
     },
     "output_type": "display_data"
    },
    {
     "data": {
      "text/html": [
       "<div>\n",
       "<style scoped>\n",
       "    .dataframe tbody tr th:only-of-type {\n",
       "        vertical-align: middle;\n",
       "    }\n",
       "\n",
       "    .dataframe tbody tr th {\n",
       "        vertical-align: top;\n",
       "    }\n",
       "\n",
       "    .dataframe thead th {\n",
       "        text-align: right;\n",
       "    }\n",
       "</style>\n",
       "<table border=\"1\" class=\"dataframe\">\n",
       "  <thead>\n",
       "    <tr style=\"text-align: right;\">\n",
       "      <th></th>\n",
       "      <th>gammas</th>\n",
       "      <th>losses_tr</th>\n",
       "      <th>losses_te</th>\n",
       "    </tr>\n",
       "  </thead>\n",
       "  <tbody>\n",
       "    <tr>\n",
       "      <td>0</td>\n",
       "      <td>0.000100</td>\n",
       "      <td>4.563313e-01</td>\n",
       "      <td>4.563330e-01</td>\n",
       "    </tr>\n",
       "    <tr>\n",
       "      <td>1</td>\n",
       "      <td>0.000127</td>\n",
       "      <td>4.537083e-01</td>\n",
       "      <td>4.537103e-01</td>\n",
       "    </tr>\n",
       "    <tr>\n",
       "      <td>2</td>\n",
       "      <td>0.000162</td>\n",
       "      <td>4.516976e-01</td>\n",
       "      <td>4.516999e-01</td>\n",
       "    </tr>\n",
       "    <tr>\n",
       "      <td>3</td>\n",
       "      <td>0.000207</td>\n",
       "      <td>4.500823e-01</td>\n",
       "      <td>4.500849e-01</td>\n",
       "    </tr>\n",
       "    <tr>\n",
       "      <td>4</td>\n",
       "      <td>0.000264</td>\n",
       "      <td>4.485741e-01</td>\n",
       "      <td>4.485770e-01</td>\n",
       "    </tr>\n",
       "    <tr>\n",
       "      <td>5</td>\n",
       "      <td>0.000336</td>\n",
       "      <td>4.469208e-01</td>\n",
       "      <td>4.469241e-01</td>\n",
       "    </tr>\n",
       "    <tr>\n",
       "      <td>6</td>\n",
       "      <td>0.000428</td>\n",
       "      <td>4.449594e-01</td>\n",
       "      <td>4.449630e-01</td>\n",
       "    </tr>\n",
       "    <tr>\n",
       "      <td>7</td>\n",
       "      <td>0.000546</td>\n",
       "      <td>4.425995e-01</td>\n",
       "      <td>4.426036e-01</td>\n",
       "    </tr>\n",
       "    <tr>\n",
       "      <td>8</td>\n",
       "      <td>0.000695</td>\n",
       "      <td>4.397872e-01</td>\n",
       "      <td>4.397918e-01</td>\n",
       "    </tr>\n",
       "    <tr>\n",
       "      <td>9</td>\n",
       "      <td>0.000886</td>\n",
       "      <td>4.364896e-01</td>\n",
       "      <td>4.364949e-01</td>\n",
       "    </tr>\n",
       "    <tr>\n",
       "      <td>10</td>\n",
       "      <td>0.001129</td>\n",
       "      <td>4.326998e-01</td>\n",
       "      <td>4.327059e-01</td>\n",
       "    </tr>\n",
       "    <tr>\n",
       "      <td>11</td>\n",
       "      <td>0.001438</td>\n",
       "      <td>4.284458e-01</td>\n",
       "      <td>4.284528e-01</td>\n",
       "    </tr>\n",
       "    <tr>\n",
       "      <td>12</td>\n",
       "      <td>0.001833</td>\n",
       "      <td>4.237975e-01</td>\n",
       "      <td>4.238056e-01</td>\n",
       "    </tr>\n",
       "    <tr>\n",
       "      <td>13</td>\n",
       "      <td>0.002336</td>\n",
       "      <td>4.188640e-01</td>\n",
       "      <td>4.188733e-01</td>\n",
       "    </tr>\n",
       "    <tr>\n",
       "      <td>14</td>\n",
       "      <td>0.002976</td>\n",
       "      <td>4.137759e-01</td>\n",
       "      <td>4.137865e-01</td>\n",
       "    </tr>\n",
       "    <tr>\n",
       "      <td>15</td>\n",
       "      <td>0.003793</td>\n",
       "      <td>4.086538e-01</td>\n",
       "      <td>4.086659e-01</td>\n",
       "    </tr>\n",
       "    <tr>\n",
       "      <td>16</td>\n",
       "      <td>0.004833</td>\n",
       "      <td>4.035728e-01</td>\n",
       "      <td>4.035866e-01</td>\n",
       "    </tr>\n",
       "    <tr>\n",
       "      <td>17</td>\n",
       "      <td>0.006158</td>\n",
       "      <td>3.985443e-01</td>\n",
       "      <td>3.985599e-01</td>\n",
       "    </tr>\n",
       "    <tr>\n",
       "      <td>18</td>\n",
       "      <td>0.007848</td>\n",
       "      <td>3.935347e-01</td>\n",
       "      <td>3.935523e-01</td>\n",
       "    </tr>\n",
       "    <tr>\n",
       "      <td>19</td>\n",
       "      <td>0.010000</td>\n",
       "      <td>1.818657e+13</td>\n",
       "      <td>1.818640e+13</td>\n",
       "    </tr>\n",
       "  </tbody>\n",
       "</table>\n",
       "</div>"
      ],
      "text/plain": [
       "      gammas     losses_tr     losses_te\n",
       "0   0.000100  4.563313e-01  4.563330e-01\n",
       "1   0.000127  4.537083e-01  4.537103e-01\n",
       "2   0.000162  4.516976e-01  4.516999e-01\n",
       "3   0.000207  4.500823e-01  4.500849e-01\n",
       "4   0.000264  4.485741e-01  4.485770e-01\n",
       "5   0.000336  4.469208e-01  4.469241e-01\n",
       "6   0.000428  4.449594e-01  4.449630e-01\n",
       "7   0.000546  4.425995e-01  4.426036e-01\n",
       "8   0.000695  4.397872e-01  4.397918e-01\n",
       "9   0.000886  4.364896e-01  4.364949e-01\n",
       "10  0.001129  4.326998e-01  4.327059e-01\n",
       "11  0.001438  4.284458e-01  4.284528e-01\n",
       "12  0.001833  4.237975e-01  4.238056e-01\n",
       "13  0.002336  4.188640e-01  4.188733e-01\n",
       "14  0.002976  4.137759e-01  4.137865e-01\n",
       "15  0.003793  4.086538e-01  4.086659e-01\n",
       "16  0.004833  4.035728e-01  4.035866e-01\n",
       "17  0.006158  3.985443e-01  3.985599e-01\n",
       "18  0.007848  3.935347e-01  3.935523e-01\n",
       "19  0.010000  1.818657e+13  1.818640e+13"
      ]
     },
     "execution_count": 7,
     "metadata": {},
     "output_type": "execute_result"
    }
   ],
   "source": [
    "plot_cross_validation_gamma(losses_GD)\n",
    "losses_GD"
   ]
  },
  {
   "cell_type": "code",
   "execution_count": 8,
   "metadata": {},
   "outputs": [
    {
     "data": {
      "text/plain": [
       "0.3555756919492491"
      ]
     },
     "execution_count": 8,
     "metadata": {},
     "output_type": "execute_result"
    }
   ],
   "source": [
    "# Gradient Decent with best gamma\n",
    "w_GD, loss_GD = run_GD(y, tx, max_iters = 1000, gamma=0.008)\n",
    "loss_GD"
   ]
  },
  {
   "cell_type": "markdown",
   "metadata": {},
   "source": [
    "**Stochastic gradient descent**"
   ]
  },
  {
   "cell_type": "markdown",
   "metadata": {},
   "source": [
    "Cross validation to find best gamma for our model"
   ]
  },
  {
   "cell_type": "code",
   "execution_count": 9,
   "metadata": {},
   "outputs": [
    {
     "name": "stdout",
     "output_type": "stream",
     "text": [
      "Currently at gamma: 1e-05\n",
      "Currently at gamma: 1.438449888287663e-05\n",
      "Currently at gamma: 2.06913808111479e-05\n",
      "Currently at gamma: 2.9763514416313192e-05\n",
      "Currently at gamma: 4.281332398719396e-05\n",
      "Currently at gamma: 6.158482110660267e-05\n",
      "Currently at gamma: 8.858667904100833e-05\n",
      "Currently at gamma: 0.00012742749857031334\n",
      "Currently at gamma: 0.00018329807108324357\n",
      "Currently at gamma: 0.00026366508987303583\n",
      "Currently at gamma: 0.000379269019073225\n",
      "Currently at gamma: 0.0005455594781168515\n",
      "Currently at gamma: 0.0007847599703514606\n",
      "Currently at gamma: 0.0011288378916846883\n",
      "Currently at gamma: 0.001623776739188721\n",
      "Currently at gamma: 0.002335721469090121\n",
      "Currently at gamma: 0.003359818286283781\n",
      "Currently at gamma: 0.004832930238571752\n",
      "Currently at gamma: 0.0069519279617756054\n",
      "Currently at gamma: 0.01\n"
     ]
    }
   ],
   "source": [
    "max_iters = 50\n",
    "degree = 1\n",
    "losses_SGD = cross_validation_SGD(y, tx, max_iters, degree)"
   ]
  },
  {
   "cell_type": "markdown",
   "metadata": {},
   "source": [
    "Plot results of how losses connect to gammas"
   ]
  },
  {
   "cell_type": "code",
   "execution_count": 10,
   "metadata": {},
   "outputs": [
    {
     "data": {
      "image/png": "[encoded data removed]",
      "text/plain": [
       "<Figure size 576x432 with 1 Axes>"
      ]
     },
     "metadata": {
      "needs_background": "light"
     },
     "output_type": "display_data"
    },
    {
     "data": {
      "text/html": [
       "<div>\n",
       "<style scoped>\n",
       "    .dataframe tbody tr th:only-of-type {\n",
       "        vertical-align: middle;\n",
       "    }\n",
       "\n",
       "    .dataframe tbody tr th {\n",
       "        vertical-align: top;\n",
       "    }\n",
       "\n",
       "    .dataframe thead th {\n",
       "        text-align: right;\n",
       "    }\n",
       "</style>\n",
       "<table border=\"1\" class=\"dataframe\">\n",
       "  <thead>\n",
       "    <tr style=\"text-align: right;\">\n",
       "      <th></th>\n",
       "      <th>gammas</th>\n",
       "      <th>losses_tr</th>\n",
       "      <th>losses_te</th>\n",
       "    </tr>\n",
       "  </thead>\n",
       "  <tbody>\n",
       "    <tr>\n",
       "      <td>0</td>\n",
       "      <td>0.000010</td>\n",
       "      <td>4.893727e-01</td>\n",
       "      <td>4.893904e-01</td>\n",
       "    </tr>\n",
       "    <tr>\n",
       "      <td>1</td>\n",
       "      <td>0.000014</td>\n",
       "      <td>4.855330e-01</td>\n",
       "      <td>4.855577e-01</td>\n",
       "    </tr>\n",
       "    <tr>\n",
       "      <td>2</td>\n",
       "      <td>0.000021</td>\n",
       "      <td>4.807426e-01</td>\n",
       "      <td>4.807769e-01</td>\n",
       "    </tr>\n",
       "    <tr>\n",
       "      <td>3</td>\n",
       "      <td>0.000030</td>\n",
       "      <td>4.751323e-01</td>\n",
       "      <td>4.751790e-01</td>\n",
       "    </tr>\n",
       "    <tr>\n",
       "      <td>4</td>\n",
       "      <td>0.000043</td>\n",
       "      <td>4.691366e-01</td>\n",
       "      <td>4.691988e-01</td>\n",
       "    </tr>\n",
       "    <tr>\n",
       "      <td>5</td>\n",
       "      <td>0.000062</td>\n",
       "      <td>4.635214e-01</td>\n",
       "      <td>4.636014e-01</td>\n",
       "    </tr>\n",
       "    <tr>\n",
       "      <td>6</td>\n",
       "      <td>0.000089</td>\n",
       "      <td>4.591531e-01</td>\n",
       "      <td>4.592514e-01</td>\n",
       "    </tr>\n",
       "    <tr>\n",
       "      <td>7</td>\n",
       "      <td>0.000127</td>\n",
       "      <td>4.564512e-01</td>\n",
       "      <td>4.565644e-01</td>\n",
       "    </tr>\n",
       "    <tr>\n",
       "      <td>8</td>\n",
       "      <td>0.000183</td>\n",
       "      <td>4.549884e-01</td>\n",
       "      <td>4.551081e-01</td>\n",
       "    </tr>\n",
       "    <tr>\n",
       "      <td>9</td>\n",
       "      <td>0.000264</td>\n",
       "      <td>4.541823e-01</td>\n",
       "      <td>4.542962e-01</td>\n",
       "    </tr>\n",
       "    <tr>\n",
       "      <td>10</td>\n",
       "      <td>0.000379</td>\n",
       "      <td>4.549498e-01</td>\n",
       "      <td>4.550461e-01</td>\n",
       "    </tr>\n",
       "    <tr>\n",
       "      <td>11</td>\n",
       "      <td>0.000546</td>\n",
       "      <td>4.598363e-01</td>\n",
       "      <td>4.599107e-01</td>\n",
       "    </tr>\n",
       "    <tr>\n",
       "      <td>12</td>\n",
       "      <td>0.000785</td>\n",
       "      <td>4.698155e-01</td>\n",
       "      <td>4.698779e-01</td>\n",
       "    </tr>\n",
       "    <tr>\n",
       "      <td>13</td>\n",
       "      <td>0.001129</td>\n",
       "      <td>4.820143e-01</td>\n",
       "      <td>4.820953e-01</td>\n",
       "    </tr>\n",
       "    <tr>\n",
       "      <td>14</td>\n",
       "      <td>0.001624</td>\n",
       "      <td>4.989960e-01</td>\n",
       "      <td>4.991485e-01</td>\n",
       "    </tr>\n",
       "    <tr>\n",
       "      <td>15</td>\n",
       "      <td>0.002336</td>\n",
       "      <td>5.607716e-01</td>\n",
       "      <td>5.610860e-01</td>\n",
       "    </tr>\n",
       "    <tr>\n",
       "      <td>16</td>\n",
       "      <td>0.003360</td>\n",
       "      <td>8.555804e-01</td>\n",
       "      <td>8.562532e-01</td>\n",
       "    </tr>\n",
       "    <tr>\n",
       "      <td>17</td>\n",
       "      <td>0.004833</td>\n",
       "      <td>2.351453e+00</td>\n",
       "      <td>2.352731e+00</td>\n",
       "    </tr>\n",
       "    <tr>\n",
       "      <td>18</td>\n",
       "      <td>0.006952</td>\n",
       "      <td>2.596201e+01</td>\n",
       "      <td>2.595406e+01</td>\n",
       "    </tr>\n",
       "    <tr>\n",
       "      <td>19</td>\n",
       "      <td>0.010000</td>\n",
       "      <td>8.601095e+15</td>\n",
       "      <td>8.609609e+15</td>\n",
       "    </tr>\n",
       "  </tbody>\n",
       "</table>\n",
       "</div>"
      ],
      "text/plain": [
       "      gammas     losses_tr     losses_te\n",
       "0   0.000010  4.893727e-01  4.893904e-01\n",
       "1   0.000014  4.855330e-01  4.855577e-01\n",
       "2   0.000021  4.807426e-01  4.807769e-01\n",
       "3   0.000030  4.751323e-01  4.751790e-01\n",
       "4   0.000043  4.691366e-01  4.691988e-01\n",
       "5   0.000062  4.635214e-01  4.636014e-01\n",
       "6   0.000089  4.591531e-01  4.592514e-01\n",
       "7   0.000127  4.564512e-01  4.565644e-01\n",
       "8   0.000183  4.549884e-01  4.551081e-01\n",
       "9   0.000264  4.541823e-01  4.542962e-01\n",
       "10  0.000379  4.549498e-01  4.550461e-01\n",
       "11  0.000546  4.598363e-01  4.599107e-01\n",
       "12  0.000785  4.698155e-01  4.698779e-01\n",
       "13  0.001129  4.820143e-01  4.820953e-01\n",
       "14  0.001624  4.989960e-01  4.991485e-01\n",
       "15  0.002336  5.607716e-01  5.610860e-01\n",
       "16  0.003360  8.555804e-01  8.562532e-01\n",
       "17  0.004833  2.351453e+00  2.352731e+00\n",
       "18  0.006952  2.596201e+01  2.595406e+01\n",
       "19  0.010000  8.601095e+15  8.609609e+15"
      ]
     },
     "execution_count": 10,
     "metadata": {},
     "output_type": "execute_result"
    }
   ],
   "source": [
    "plot_cross_validation_gamma(losses_SGD, model='sgd')\n",
    "losses_SGD"
   ]
  },
  {
   "cell_type": "code",
   "execution_count": 11,
   "metadata": {},
   "outputs": [
    {
     "data": {
      "text/plain": [
       "0.15374219258536537"
      ]
     },
     "execution_count": 11,
     "metadata": {},
     "output_type": "execute_result"
    }
   ],
   "source": [
    "# Stochastic Gradient Decent with best gamma\n",
    "w_SGD, loss_SGD = run_SGD(y, tx, max_iters = 3002, gamma=0.0003)\n",
    "loss_SGD"
   ]
  },
  {
   "cell_type": "markdown",
   "metadata": {},
   "source": [
    "**Least Squares**"
   ]
  },
  {
   "cell_type": "markdown",
   "metadata": {},
   "source": [
    "Cross Validation to find best degree of model"
   ]
  },
  {
   "cell_type": "code",
   "execution_count": 12,
   "metadata": {},
   "outputs": [
    {
     "name": "stdout",
     "output_type": "stream",
     "text": [
      "Currently at degree: 0\n",
      "Currently at degree: 1\n",
      "Currently at degree: 2\n",
      "Currently at degree: 3\n",
      "Currently at degree: 4\n",
      "Currently at degree: 5\n",
      "Currently at degree: 6\n",
      "Currently at degree: 7\n",
      "Currently at degree: 8\n",
      "Currently at degree: 9\n",
      "Currently at degree: 10\n",
      "Currently at degree: 11\n"
     ]
    }
   ],
   "source": [
    "max_degree = 11\n",
    "losses_LS = cross_validation_least_squares(y, tx, max_degree)"
   ]
  },
  {
   "cell_type": "markdown",
   "metadata": {},
   "source": [
    "Plot results of how losses connect to degrees"
   ]
  },
  {
   "cell_type": "code",
   "execution_count": 13,
   "metadata": {},
   "outputs": [
    {
     "data": {
      "image/png": "[encoded data removed]",
      "text/plain": [
       "<Figure size 576x432 with 1 Axes>"
      ]
     },
     "metadata": {
      "needs_background": "light"
     },
     "output_type": "display_data"
    },
    {
     "data": {
      "text/html": [
       "<div>\n",
       "<style scoped>\n",
       "    .dataframe tbody tr th:only-of-type {\n",
       "        vertical-align: middle;\n",
       "    }\n",
       "\n",
       "    .dataframe tbody tr th {\n",
       "        vertical-align: top;\n",
       "    }\n",
       "\n",
       "    .dataframe thead th {\n",
       "        text-align: right;\n",
       "    }\n",
       "</style>\n",
       "<table border=\"1\" class=\"dataframe\">\n",
       "  <thead>\n",
       "    <tr style=\"text-align: right;\">\n",
       "      <th></th>\n",
       "      <th>degree</th>\n",
       "      <th>losses_tr</th>\n",
       "      <th>losses_te</th>\n",
       "    </tr>\n",
       "  </thead>\n",
       "  <tbody>\n",
       "    <tr>\n",
       "      <td>0</td>\n",
       "      <td>0</td>\n",
       "      <td>0.949203</td>\n",
       "      <td>0.949204</td>\n",
       "    </tr>\n",
       "    <tr>\n",
       "      <td>1</td>\n",
       "      <td>1</td>\n",
       "      <td>0.824274</td>\n",
       "      <td>0.824401</td>\n",
       "    </tr>\n",
       "    <tr>\n",
       "      <td>2</td>\n",
       "      <td>2</td>\n",
       "      <td>0.788299</td>\n",
       "      <td>0.788507</td>\n",
       "    </tr>\n",
       "    <tr>\n",
       "      <td>3</td>\n",
       "      <td>3</td>\n",
       "      <td>0.779679</td>\n",
       "      <td>0.780042</td>\n",
       "    </tr>\n",
       "    <tr>\n",
       "      <td>4</td>\n",
       "      <td>4</td>\n",
       "      <td>0.768510</td>\n",
       "      <td>0.769481</td>\n",
       "    </tr>\n",
       "    <tr>\n",
       "      <td>5</td>\n",
       "      <td>5</td>\n",
       "      <td>0.760702</td>\n",
       "      <td>0.761474</td>\n",
       "    </tr>\n",
       "    <tr>\n",
       "      <td>6</td>\n",
       "      <td>6</td>\n",
       "      <td>0.755709</td>\n",
       "      <td>0.757791</td>\n",
       "    </tr>\n",
       "    <tr>\n",
       "      <td>7</td>\n",
       "      <td>7</td>\n",
       "      <td>0.750763</td>\n",
       "      <td>0.754896</td>\n",
       "    </tr>\n",
       "    <tr>\n",
       "      <td>8</td>\n",
       "      <td>8</td>\n",
       "      <td>0.762958</td>\n",
       "      <td>0.772013</td>\n",
       "    </tr>\n",
       "    <tr>\n",
       "      <td>9</td>\n",
       "      <td>9</td>\n",
       "      <td>0.745571</td>\n",
       "      <td>0.811618</td>\n",
       "    </tr>\n",
       "    <tr>\n",
       "      <td>10</td>\n",
       "      <td>10</td>\n",
       "      <td>0.749755</td>\n",
       "      <td>0.938938</td>\n",
       "    </tr>\n",
       "    <tr>\n",
       "      <td>11</td>\n",
       "      <td>11</td>\n",
       "      <td>0.758896</td>\n",
       "      <td>8.334282</td>\n",
       "    </tr>\n",
       "  </tbody>\n",
       "</table>\n",
       "</div>"
      ],
      "text/plain": [
       "    degree  losses_tr  losses_te\n",
       "0        0   0.949203   0.949204\n",
       "1        1   0.824274   0.824401\n",
       "2        2   0.788299   0.788507\n",
       "3        3   0.779679   0.780042\n",
       "4        4   0.768510   0.769481\n",
       "5        5   0.760702   0.761474\n",
       "6        6   0.755709   0.757791\n",
       "7        7   0.750763   0.754896\n",
       "8        8   0.762958   0.772013\n",
       "9        9   0.745571   0.811618\n",
       "10      10   0.749755   0.938938\n",
       "11      11   0.758896   8.334282"
      ]
     },
     "execution_count": 13,
     "metadata": {},
     "output_type": "execute_result"
    }
   ],
   "source": [
    "plot_cross_validation_degree(losses_LS)\n",
    "losses_LS"
   ]
  },
  {
   "cell_type": "code",
   "execution_count": 14,
   "metadata": {},
   "outputs": [
    {
     "data": {
      "text/plain": [
       "0.28043264482571134"
      ]
     },
     "execution_count": 14,
     "metadata": {},
     "output_type": "execute_result"
    }
   ],
   "source": [
    "# Least Squares with best degree\n",
    "tx_7 = build_poly(tx, 7)\n",
    "w_LS, loss_LS = least_squares(y, tx_7)\n",
    "loss_LS"
   ]
  },
  {
   "cell_type": "markdown",
   "metadata": {},
   "source": [
    "**Ridge Regression**"
   ]
  },
  {
   "cell_type": "markdown",
   "metadata": {},
   "source": [
    "Cross Validation to find best lambda of model"
   ]
  },
  {
   "cell_type": "code",
   "execution_count": 15,
   "metadata": {},
   "outputs": [
    {
     "name": "stdout",
     "output_type": "stream",
     "text": [
      "0.001\n",
      "0.0027825594022071257\n",
      "0.007742636826811269\n",
      "0.021544346900318832\n",
      "0.05994842503189409\n",
      "0.1668100537200059\n",
      "0.46415888336127775\n",
      "1.2915496650148828\n",
      "3.593813663804626\n",
      "10.0\n"
     ]
    }
   ],
   "source": [
    "degree = 10\n",
    "losses_lambda = cross_validation_ridge(y, tx, degree)"
   ]
  },
  {
   "cell_type": "markdown",
   "metadata": {},
   "source": [
    "Plot results of how losses connect to lambdas"
   ]
  },
  {
   "cell_type": "code",
   "execution_count": 16,
   "metadata": {},
   "outputs": [
    {
     "data": {
      "image/png": "[encoded data removed]",
      "text/plain": [
       "<Figure size 576x432 with 1 Axes>"
      ]
     },
     "metadata": {
      "needs_background": "light"
     },
     "output_type": "display_data"
    }
   ],
   "source": [
    "plot_cross_validation_lambda(losses_lambda)"
   ]
  },
  {
   "cell_type": "code",
   "execution_count": 17,
   "metadata": {},
   "outputs": [
    {
     "data": {
      "text/html": [
       "<div>\n",
       "<style scoped>\n",
       "    .dataframe tbody tr th:only-of-type {\n",
       "        vertical-align: middle;\n",
       "    }\n",
       "\n",
       "    .dataframe tbody tr th {\n",
       "        vertical-align: top;\n",
       "    }\n",
       "\n",
       "    .dataframe thead th {\n",
       "        text-align: right;\n",
       "    }\n",
       "</style>\n",
       "<table border=\"1\" class=\"dataframe\">\n",
       "  <thead>\n",
       "    <tr style=\"text-align: right;\">\n",
       "      <th></th>\n",
       "      <th>lambdas</th>\n",
       "      <th>losses_tr</th>\n",
       "      <th>losses_te</th>\n",
       "    </tr>\n",
       "  </thead>\n",
       "  <tbody>\n",
       "    <tr>\n",
       "      <td>0</td>\n",
       "      <td>0.001000</td>\n",
       "      <td>0.754860</td>\n",
       "      <td>0.761134</td>\n",
       "    </tr>\n",
       "    <tr>\n",
       "      <td>1</td>\n",
       "      <td>0.002783</td>\n",
       "      <td>0.756926</td>\n",
       "      <td>0.760032</td>\n",
       "    </tr>\n",
       "    <tr>\n",
       "      <td>2</td>\n",
       "      <td>0.007743</td>\n",
       "      <td>0.759016</td>\n",
       "      <td>0.760344</td>\n",
       "    </tr>\n",
       "    <tr>\n",
       "      <td>3</td>\n",
       "      <td>0.021544</td>\n",
       "      <td>0.760831</td>\n",
       "      <td>0.763412</td>\n",
       "    </tr>\n",
       "    <tr>\n",
       "      <td>4</td>\n",
       "      <td>0.059948</td>\n",
       "      <td>0.762429</td>\n",
       "      <td>0.770275</td>\n",
       "    </tr>\n",
       "    <tr>\n",
       "      <td>5</td>\n",
       "      <td>0.166810</td>\n",
       "      <td>0.763876</td>\n",
       "      <td>0.780072</td>\n",
       "    </tr>\n",
       "    <tr>\n",
       "      <td>6</td>\n",
       "      <td>0.464159</td>\n",
       "      <td>0.765543</td>\n",
       "      <td>0.788716</td>\n",
       "    </tr>\n",
       "    <tr>\n",
       "      <td>7</td>\n",
       "      <td>1.291550</td>\n",
       "      <td>0.767993</td>\n",
       "      <td>0.788797</td>\n",
       "    </tr>\n",
       "    <tr>\n",
       "      <td>8</td>\n",
       "      <td>3.593814</td>\n",
       "      <td>0.771257</td>\n",
       "      <td>0.782292</td>\n",
       "    </tr>\n",
       "    <tr>\n",
       "      <td>9</td>\n",
       "      <td>10.000000</td>\n",
       "      <td>0.774585</td>\n",
       "      <td>0.777658</td>\n",
       "    </tr>\n",
       "  </tbody>\n",
       "</table>\n",
       "</div>"
      ],
      "text/plain": [
       "     lambdas  losses_tr  losses_te\n",
       "0   0.001000   0.754860   0.761134\n",
       "1   0.002783   0.756926   0.760032\n",
       "2   0.007743   0.759016   0.760344\n",
       "3   0.021544   0.760831   0.763412\n",
       "4   0.059948   0.762429   0.770275\n",
       "5   0.166810   0.763876   0.780072\n",
       "6   0.464159   0.765543   0.788716\n",
       "7   1.291550   0.767993   0.788797\n",
       "8   3.593814   0.771257   0.782292\n",
       "9  10.000000   0.774585   0.777658"
      ]
     },
     "execution_count": 17,
     "metadata": {},
     "output_type": "execute_result"
    }
   ],
   "source": [
    "losses_lambda"
   ]
  },
  {
   "cell_type": "code",
   "execution_count": 18,
   "metadata": {},
   "outputs": [
    {
     "data": {
      "text/plain": [
       "0.3464379182448381"
      ]
     },
     "execution_count": 18,
     "metadata": {},
     "output_type": "execute_result"
    }
   ],
   "source": [
    "# Ridge regression using the best lambda & degree\n",
    "txx = build_poly(tx, 10)\n",
    "w_RR, loss_RR = ridge_regression(y, tx, 0.0027)\n",
    "loss_RR"
   ]
  }
 ],
 "metadata": {
  "kernelspec": {
   "display_name": "Python 3",
   "language": "python",
   "name": "python3"
  },
  "language_info": {
   "codemirror_mode": {
    "name": "ipython",
    "version": 3
   },
   "file_extension": ".py",
   "mimetype": "text/x-python",
   "name": "python",
   "nbconvert_exporter": "python",
   "pygments_lexer": "ipython3",
   "version": "3.7.4"
  }
 },
 "nbformat": 4,
 "nbformat_minor": 4
}
